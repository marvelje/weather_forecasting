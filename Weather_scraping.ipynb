{
 "cells": [
  {
   "cell_type": "markdown",
   "metadata": {},
   "source": [
    "# Weather Scraping\n",
    "\n",
    "- This script scrapes weather data from three different sources\n",
    "    - weather.com for the 15 day NYC forecast (Central Park station)\n",
    "    - timeanddate.com for prior day high and low\n",
    "    - weather.gov for prior day rainfall"
   ]
  },
  {
   "cell_type": "code",
   "execution_count": 1,
   "metadata": {},
   "outputs": [],
   "source": [
    "from bs4 import BeautifulSoup\n",
    "import requests\n",
    "import pandas as pd\n",
    "import numpy as np\n",
    "import datetime as dt"
   ]
  },
  {
   "cell_type": "code",
   "execution_count": 2,
   "metadata": {},
   "outputs": [],
   "source": [
    "# Read in existing weather history\n",
    "try:\n",
    "    weather_hist = pd.read_csv('./Data/nyc_forecast.csv')\n",
    "except FileNotFoundError:\n",
    "    pass"
   ]
  },
  {
   "cell_type": "markdown",
   "metadata": {},
   "source": [
    "## The Weather Channel \n",
    "\n",
    "Source for NYC 10 day forecast high & low temps, precipation probability, and wind direction / speed"
   ]
  },
  {
   "cell_type": "code",
   "execution_count": 3,
   "metadata": {},
   "outputs": [],
   "source": [
    "url = 'https://weather.com/weather/tenday/l/New+York+City+NY?canonicalCityId=a701ee19c4ab71bbbe2f6ba2fe8c250913883e5ae9b8eee8b54f8efbdb3eec03'\n",
    "\n",
    "res = requests.get(url)\n",
    "\n",
    "soup = BeautifulSoup(res.content)"
   ]
  },
  {
   "cell_type": "code",
   "execution_count": 4,
   "metadata": {},
   "outputs": [],
   "source": [
    "date_headers = soup.find_all('h3', class_='DetailsSummary--daypartName--2FBp2')"
   ]
  },
  {
   "cell_type": "code",
   "execution_count": 5,
   "metadata": {},
   "outputs": [
    {
     "data": {
      "text/plain": [
       "[<h3 class=\"DetailsSummary--daypartName--2FBp2\" data-testid=\"daypartName\">Tonight</h3>,\n",
       " <h3 class=\"DetailsSummary--daypartName--2FBp2\" data-testid=\"daypartName\">Sat 23</h3>,\n",
       " <h3 class=\"DetailsSummary--daypartName--2FBp2\" data-testid=\"daypartName\">Sun 24</h3>,\n",
       " <h3 class=\"DetailsSummary--daypartName--2FBp2\" data-testid=\"daypartName\">Mon 25</h3>,\n",
       " <h3 class=\"DetailsSummary--daypartName--2FBp2\" data-testid=\"daypartName\">Tue 26</h3>,\n",
       " <h3 class=\"DetailsSummary--daypartName--2FBp2\" data-testid=\"daypartName\">Wed 27</h3>,\n",
       " <h3 class=\"DetailsSummary--daypartName--2FBp2\" data-testid=\"daypartName\">Thu 28</h3>,\n",
       " <h3 class=\"DetailsSummary--daypartName--2FBp2\" data-testid=\"daypartName\">Fri 29</h3>,\n",
       " <h3 class=\"DetailsSummary--daypartName--2FBp2\" data-testid=\"daypartName\">Sat 30</h3>,\n",
       " <h3 class=\"DetailsSummary--daypartName--2FBp2\" data-testid=\"daypartName\">Sun 01</h3>,\n",
       " <h3 class=\"DetailsSummary--daypartName--2FBp2\" data-testid=\"daypartName\">Mon 02</h3>,\n",
       " <h3 class=\"DetailsSummary--daypartName--2FBp2\" data-testid=\"daypartName\">Tue 03</h3>,\n",
       " <h3 class=\"DetailsSummary--daypartName--2FBp2\" data-testid=\"daypartName\">Wed 04</h3>,\n",
       " <h3 class=\"DetailsSummary--daypartName--2FBp2\" data-testid=\"daypartName\">Thu 05</h3>,\n",
       " <h3 class=\"DetailsSummary--daypartName--2FBp2\" data-testid=\"daypartName\">Fri 06</h3>]"
      ]
     },
     "execution_count": 5,
     "metadata": {},
     "output_type": "execute_result"
    }
   ],
   "source": [
    "date_headers"
   ]
  },
  {
   "cell_type": "code",
   "execution_count": 6,
   "metadata": {},
   "outputs": [],
   "source": [
    "# Pull in each of the dates in the forecast\n",
    "\n",
    "dates = []\n",
    "\n",
    "for date in date_headers:\n",
    "    dates.append(date.text)\n",
    "    \n",
    "# Convert the numbers to actual dates\n",
    "\n",
    "tomorrow = dt.date.today() + dt.timedelta(1)\n",
    "dates = [tomorrow + dt.timedelta(days=i) for i in range(len(dates))]\n",
    "\n",
    "# Create list of days\n",
    "# In future, just extract from the datetime column. Having issues with this though.\n",
    "days = []\n",
    "months = []\n",
    "years = []\n",
    "\n",
    "for i, date in enumerate(dates):\n",
    "    if (i + 1) == len(dates):\n",
    "        continue\n",
    "    else:\n",
    "        days.append(date.day)\n",
    "        months.append(date.month)\n",
    "        years.append(date.year)"
   ]
  },
  {
   "cell_type": "code",
   "execution_count": 7,
   "metadata": {},
   "outputs": [],
   "source": [
    "# Pull in daily high temperatures and add to a high temp list\n",
    "\n",
    "Htemps = soup.find_all(class_=\"DetailsSummary--highTempValue--3Oteu\")\n",
    "\n",
    "high_temps = []\n",
    "\n",
    "for i,temp in enumerate(Htemps):\n",
    "    if i == 0:\n",
    "        continue\n",
    "    else:\n",
    "        high_temps.append(temp.text)"
   ]
  },
  {
   "cell_type": "code",
   "execution_count": 8,
   "metadata": {},
   "outputs": [],
   "source": [
    "# Pull in low temperatures and add to a low temp list\n",
    "\n",
    "Ltemps = soup.find_all(class_=\"DetailsSummary--lowTempValue--3H-7I\")\n",
    "\n",
    "low_temps = []\n",
    "\n",
    "for i, temp in enumerate(Ltemps):\n",
    "    if i == 0:\n",
    "        continue\n",
    "    else:\n",
    "        low_temps.append(temp.text)"
   ]
  },
  {
   "cell_type": "code",
   "execution_count": 9,
   "metadata": {},
   "outputs": [],
   "source": [
    "# Convert the temperatures to integers. This needs to be run early enough in the day that the page still has a high.\n",
    "\n",
    "for i in range(min(len(low_temps), len(high_temps))):\n",
    "    low_temps[i] = int(low_temps[i].strip('°'))\n",
    "    high_temps[i] = int(high_temps[i].strip('°'))"
   ]
  },
  {
   "cell_type": "code",
   "execution_count": 10,
   "metadata": {},
   "outputs": [],
   "source": [
    "# Pull the precipitation probability\n",
    "\n",
    "precip_headers = soup.find_all(class_='DetailsSummary--precip--1ecIJ')\n",
    "\n",
    "precip_prob = []\n",
    "\n",
    "for i,day in enumerate(precip_headers):\n",
    "    if i ==0:\n",
    "        continue\n",
    "    else:\n",
    "        precip_prob.append((day.find_all('span'))[0].text)\n",
    "    \n",
    "# Convert precip probability to a decimal\n",
    "\n",
    "precip_prob = [float(x.strip('%')) / 100 for x in precip_prob]"
   ]
  },
  {
   "cell_type": "code",
   "execution_count": 11,
   "metadata": {},
   "outputs": [],
   "source": [
    "# Pull in wind stats\n",
    "\n",
    "wind_stats = []\n",
    "\n",
    "wind_scrape = soup.find_all(class_='Wind--windWrapper--3aqXJ undefined')\n",
    "\n",
    "for i,day in enumerate(wind_scrape):\n",
    "    if i == 0:\n",
    "        continue\n",
    "    else:\n",
    "        wind_stats.append(day.text)"
   ]
  },
  {
   "cell_type": "code",
   "execution_count": 12,
   "metadata": {},
   "outputs": [],
   "source": [
    "# Create a dictionary with all the information\n",
    "\n",
    "num_days = len(high_temps)\n",
    "\n",
    "forecast_detail = {}\n",
    "forecast_dict = {}\n",
    "\n",
    "forecast_date = dt.date.today()\n",
    "\n",
    "for i in range(num_days):\n",
    "    forecast_detail[dates[i]] = {'high_temp': high_temps[i], 'low_temp': low_temps[i], \n",
    "                                 'precip_prob': precip_prob[i], 'wind_stats': wind_stats[i]}\n",
    "    \n",
    "forecast_dict[forecast_date] = forecast_detail"
   ]
  },
  {
   "cell_type": "code",
   "execution_count": 13,
   "metadata": {},
   "outputs": [],
   "source": [
    "# Transform dict into a dataframe\n",
    "\n",
    "weather_df = pd.DataFrame.from_dict(forecast_dict[forecast_date]).T\n",
    "\n",
    "weather_df['forecast_date'] = forecast_date\n",
    "\n",
    "# Convert the forecast date column to a datetime object\n",
    "weather_df['forecast_date'] = pd.to_datetime(weather_df['forecast_date'])\n",
    "\n",
    "weather_df['date'] = weather_df.index\n",
    "\n",
    "weather_df['day'] = days\n",
    "weather_df['month'] = months\n",
    "weather_df['year'] = years\n",
    "\n",
    "weather_df.set_index('forecast_date', inplace=True)\n",
    "\n",
    "weather_df.reset_index(inplace=True)"
   ]
  },
  {
   "cell_type": "markdown",
   "metadata": {},
   "source": [
    "## Time and Date\n",
    "\n",
    "Source for yesterday's actual high and low temperatures in NYC"
   ]
  },
  {
   "cell_type": "code",
   "execution_count": 14,
   "metadata": {},
   "outputs": [],
   "source": [
    "url2 = 'https://www.timeanddate.com/weather/usa/new-york/historic'\n",
    "\n",
    "res2 = requests.get(url2)\n",
    "\n",
    "soup2 = BeautifulSoup(res2.content)"
   ]
  },
  {
   "cell_type": "code",
   "execution_count": 15,
   "metadata": {},
   "outputs": [],
   "source": [
    "yest_summary = soup2.find(class_ = 'eight columns')\n",
    "\n",
    "yest_summary_p = yest_summary.find_all('p')\n",
    "\n",
    "yest_text = yest_summary_p[0].text\n",
    "\n",
    "actual_max = int(yest_text.split(': ')[1][:2])\n",
    "actual_min = int(yest_text.split(': ')[2][:2])"
   ]
  },
  {
   "cell_type": "markdown",
   "metadata": {},
   "source": [
    "## Create empty columns for actual weather data"
   ]
  },
  {
   "cell_type": "code",
   "execution_count": 16,
   "metadata": {},
   "outputs": [],
   "source": [
    "# Create columns for actual high, low, and precipitation\n",
    "\n",
    "weather_df['actual_high'] = np.nan\n",
    "weather_df['actual_low'] = np.nan\n",
    "weather_df['actual_precip'] = np.nan"
   ]
  },
  {
   "cell_type": "markdown",
   "metadata": {},
   "source": [
    "## NOAA Weather.gov\n",
    "\n",
    "Used to pull prior day rainfall"
   ]
  },
  {
   "cell_type": "code",
   "execution_count": 17,
   "metadata": {},
   "outputs": [],
   "source": [
    "url3 = 'https://w1.weather.gov/data/obhistory/KNYC.html'\n",
    "\n",
    "res3 = requests.get(url3)\n",
    "\n",
    "soup3 = BeautifulSoup(res3.content)"
   ]
  },
  {
   "cell_type": "code",
   "execution_count": 18,
   "metadata": {},
   "outputs": [],
   "source": [
    "# Pull all table tags then only pull the main table (index 3)\n",
    "\n",
    "tables = soup3.find_all('table')\n",
    "\n",
    "full_table = tables[3]\n",
    "\n",
    "# Filter for only the subset of the table with actual data\n",
    "\n",
    "table_subset = full_table.find_all('tr')[3:-3]"
   ]
  },
  {
   "cell_type": "code",
   "execution_count": 19,
   "metadata": {},
   "outputs": [],
   "source": [
    "# Loop through table and pull all data\n",
    "\n",
    "rows = {}\n",
    "\n",
    "for i in range(len(table_subset)):\n",
    "    items_to_append = []\n",
    "    \n",
    "    table_row = table_subset[i].find_all('td')\n",
    "    \n",
    "    for item in table_row:\n",
    "        items_to_append.append(item.text)\n",
    "    \n",
    "    rows[i] = items_to_append"
   ]
  },
  {
   "cell_type": "code",
   "execution_count": 20,
   "metadata": {},
   "outputs": [],
   "source": [
    "# Convert table to Data Frame and rename the columns\n",
    "\n",
    "rain_history = pd.DataFrame.from_dict(rows).T\n",
    "\n",
    "# Rename columns\n",
    "\n",
    "old_cols = list(range(18))\n",
    "\n",
    "columns = ['Date', 'Time_EDT', 'Wind_mph', 'Vis_mi', 'Weather', 'Sky_cond', 'Air_temp', 'Dewpoint', 'Max_6hr',\n",
    "          'Min_6hr', 'Humidity', 'Wind_chill', 'Head_index', 'Pressure_inches', 'Pressure_mb',\n",
    "          'precip_1hr', 'precip_3hr', 'precip_6hr']\n",
    "\n",
    "cols_dict = dict(zip(old_cols, columns))\n",
    "\n",
    "rain_history.rename(columns=cols_dict, inplace=True)"
   ]
  },
  {
   "cell_type": "code",
   "execution_count": 21,
   "metadata": {},
   "outputs": [],
   "source": [
    "# Convert 'date' column to int\n",
    "\n",
    "rain_history['Date'] = rain_history['Date'].apply(lambda x: int(x))"
   ]
  },
  {
   "cell_type": "code",
   "execution_count": 22,
   "metadata": {},
   "outputs": [
    {
     "data": {
      "text/html": [
       "<div>\n",
       "<style scoped>\n",
       "    .dataframe tbody tr th:only-of-type {\n",
       "        vertical-align: middle;\n",
       "    }\n",
       "\n",
       "    .dataframe tbody tr th {\n",
       "        vertical-align: top;\n",
       "    }\n",
       "\n",
       "    .dataframe thead th {\n",
       "        text-align: right;\n",
       "    }\n",
       "</style>\n",
       "<table border=\"1\" class=\"dataframe\">\n",
       "  <thead>\n",
       "    <tr style=\"text-align: right;\">\n",
       "      <th></th>\n",
       "      <th>Date</th>\n",
       "      <th>Time_EDT</th>\n",
       "      <th>Wind_mph</th>\n",
       "      <th>Vis_mi</th>\n",
       "      <th>Weather</th>\n",
       "      <th>Sky_cond</th>\n",
       "      <th>Air_temp</th>\n",
       "      <th>Dewpoint</th>\n",
       "      <th>Max_6hr</th>\n",
       "      <th>Min_6hr</th>\n",
       "      <th>Humidity</th>\n",
       "      <th>Wind_chill</th>\n",
       "      <th>Head_index</th>\n",
       "      <th>Pressure_inches</th>\n",
       "      <th>Pressure_mb</th>\n",
       "      <th>precip_1hr</th>\n",
       "      <th>precip_3hr</th>\n",
       "      <th>precip_6hr</th>\n",
       "    </tr>\n",
       "  </thead>\n",
       "  <tbody>\n",
       "    <tr>\n",
       "      <th>0</th>\n",
       "      <td>22</td>\n",
       "      <td>17:51</td>\n",
       "      <td>N 7 G 17</td>\n",
       "      <td>10.00</td>\n",
       "      <td>Fair</td>\n",
       "      <td>CLR</td>\n",
       "      <td>68</td>\n",
       "      <td>22</td>\n",
       "      <td></td>\n",
       "      <td></td>\n",
       "      <td>17%</td>\n",
       "      <td>NA</td>\n",
       "      <td>NA</td>\n",
       "      <td>30.35</td>\n",
       "      <td>1026.9</td>\n",
       "      <td></td>\n",
       "      <td></td>\n",
       "      <td></td>\n",
       "    </tr>\n",
       "    <tr>\n",
       "      <th>1</th>\n",
       "      <td>22</td>\n",
       "      <td>16:51</td>\n",
       "      <td>Calm</td>\n",
       "      <td>10.00</td>\n",
       "      <td>Fair</td>\n",
       "      <td>CLR</td>\n",
       "      <td>69</td>\n",
       "      <td>24</td>\n",
       "      <td></td>\n",
       "      <td></td>\n",
       "      <td>18%</td>\n",
       "      <td>NA</td>\n",
       "      <td>NA</td>\n",
       "      <td>30.34</td>\n",
       "      <td>1026.6</td>\n",
       "      <td></td>\n",
       "      <td></td>\n",
       "      <td></td>\n",
       "    </tr>\n",
       "    <tr>\n",
       "      <th>2</th>\n",
       "      <td>22</td>\n",
       "      <td>15:51</td>\n",
       "      <td>Vrbl 5</td>\n",
       "      <td>10.00</td>\n",
       "      <td>Fair</td>\n",
       "      <td>CLR</td>\n",
       "      <td>69</td>\n",
       "      <td>23</td>\n",
       "      <td></td>\n",
       "      <td></td>\n",
       "      <td>17%</td>\n",
       "      <td>NA</td>\n",
       "      <td>NA</td>\n",
       "      <td>30.34</td>\n",
       "      <td>1026.4</td>\n",
       "      <td></td>\n",
       "      <td></td>\n",
       "      <td></td>\n",
       "    </tr>\n",
       "    <tr>\n",
       "      <th>3</th>\n",
       "      <td>22</td>\n",
       "      <td>14:51</td>\n",
       "      <td>NW 12 G 17</td>\n",
       "      <td>10.00</td>\n",
       "      <td>Fair</td>\n",
       "      <td>CLR</td>\n",
       "      <td>67</td>\n",
       "      <td>19</td>\n",
       "      <td></td>\n",
       "      <td></td>\n",
       "      <td>16%</td>\n",
       "      <td>NA</td>\n",
       "      <td>NA</td>\n",
       "      <td>30.35</td>\n",
       "      <td>1026.9</td>\n",
       "      <td></td>\n",
       "      <td></td>\n",
       "      <td></td>\n",
       "    </tr>\n",
       "    <tr>\n",
       "      <th>4</th>\n",
       "      <td>22</td>\n",
       "      <td>13:51</td>\n",
       "      <td>NW 9</td>\n",
       "      <td>10.00</td>\n",
       "      <td>Fair</td>\n",
       "      <td>CLR</td>\n",
       "      <td>69</td>\n",
       "      <td>19</td>\n",
       "      <td>69</td>\n",
       "      <td>55</td>\n",
       "      <td>15%</td>\n",
       "      <td>NA</td>\n",
       "      <td>NA</td>\n",
       "      <td>30.37</td>\n",
       "      <td>1027.4</td>\n",
       "      <td></td>\n",
       "      <td></td>\n",
       "      <td></td>\n",
       "    </tr>\n",
       "    <tr>\n",
       "      <th>...</th>\n",
       "      <td>...</td>\n",
       "      <td>...</td>\n",
       "      <td>...</td>\n",
       "      <td>...</td>\n",
       "      <td>...</td>\n",
       "      <td>...</td>\n",
       "      <td>...</td>\n",
       "      <td>...</td>\n",
       "      <td>...</td>\n",
       "      <td>...</td>\n",
       "      <td>...</td>\n",
       "      <td>...</td>\n",
       "      <td>...</td>\n",
       "      <td>...</td>\n",
       "      <td>...</td>\n",
       "      <td>...</td>\n",
       "      <td>...</td>\n",
       "      <td>...</td>\n",
       "    </tr>\n",
       "    <tr>\n",
       "      <th>67</th>\n",
       "      <td>19</td>\n",
       "      <td>22:51</td>\n",
       "      <td>W 10 G 24</td>\n",
       "      <td>10.00</td>\n",
       "      <td>Fair</td>\n",
       "      <td>CLR</td>\n",
       "      <td>44</td>\n",
       "      <td>27</td>\n",
       "      <td></td>\n",
       "      <td></td>\n",
       "      <td>51%</td>\n",
       "      <td>39</td>\n",
       "      <td>NA</td>\n",
       "      <td>30.02</td>\n",
       "      <td>1015.7</td>\n",
       "      <td></td>\n",
       "      <td></td>\n",
       "      <td></td>\n",
       "    </tr>\n",
       "    <tr>\n",
       "      <th>68</th>\n",
       "      <td>19</td>\n",
       "      <td>21:51</td>\n",
       "      <td>SW 10 G 22</td>\n",
       "      <td>10.00</td>\n",
       "      <td>Fair</td>\n",
       "      <td>CLR</td>\n",
       "      <td>44</td>\n",
       "      <td>28</td>\n",
       "      <td></td>\n",
       "      <td></td>\n",
       "      <td>53%</td>\n",
       "      <td>39</td>\n",
       "      <td>NA</td>\n",
       "      <td>29.99</td>\n",
       "      <td>1014.9</td>\n",
       "      <td></td>\n",
       "      <td></td>\n",
       "      <td></td>\n",
       "    </tr>\n",
       "    <tr>\n",
       "      <th>69</th>\n",
       "      <td>19</td>\n",
       "      <td>20:51</td>\n",
       "      <td>SW 10 G 23</td>\n",
       "      <td>10.00</td>\n",
       "      <td>Fair</td>\n",
       "      <td>CLR</td>\n",
       "      <td>44</td>\n",
       "      <td>28</td>\n",
       "      <td></td>\n",
       "      <td></td>\n",
       "      <td>53%</td>\n",
       "      <td>39</td>\n",
       "      <td>NA</td>\n",
       "      <td>29.97</td>\n",
       "      <td>1013.9</td>\n",
       "      <td></td>\n",
       "      <td></td>\n",
       "      <td></td>\n",
       "    </tr>\n",
       "    <tr>\n",
       "      <th>70</th>\n",
       "      <td>19</td>\n",
       "      <td>19:51</td>\n",
       "      <td>NA</td>\n",
       "      <td>10.00</td>\n",
       "      <td>Fair</td>\n",
       "      <td>CLR</td>\n",
       "      <td>45</td>\n",
       "      <td>29</td>\n",
       "      <td>50</td>\n",
       "      <td>44</td>\n",
       "      <td>54%</td>\n",
       "      <td>NA</td>\n",
       "      <td>NA</td>\n",
       "      <td>29.93</td>\n",
       "      <td>1012.7</td>\n",
       "      <td></td>\n",
       "      <td></td>\n",
       "      <td></td>\n",
       "    </tr>\n",
       "    <tr>\n",
       "      <th>71</th>\n",
       "      <td>19</td>\n",
       "      <td>18:51</td>\n",
       "      <td>Vrbl 7 G 22</td>\n",
       "      <td>10.00</td>\n",
       "      <td>Partly Cloudy</td>\n",
       "      <td>SCT050 SCT070</td>\n",
       "      <td>47</td>\n",
       "      <td>29</td>\n",
       "      <td></td>\n",
       "      <td></td>\n",
       "      <td>50%</td>\n",
       "      <td>44</td>\n",
       "      <td>NA</td>\n",
       "      <td>29.90</td>\n",
       "      <td>1011.5</td>\n",
       "      <td></td>\n",
       "      <td></td>\n",
       "      <td></td>\n",
       "    </tr>\n",
       "  </tbody>\n",
       "</table>\n",
       "<p>72 rows × 18 columns</p>\n",
       "</div>"
      ],
      "text/plain": [
       "    Date Time_EDT     Wind_mph Vis_mi        Weather       Sky_cond Air_temp  \\\n",
       "0     22    17:51     N 7 G 17  10.00           Fair            CLR       68   \n",
       "1     22    16:51         Calm  10.00           Fair            CLR       69   \n",
       "2     22    15:51       Vrbl 5  10.00           Fair            CLR       69   \n",
       "3     22    14:51   NW 12 G 17  10.00           Fair            CLR       67   \n",
       "4     22    13:51         NW 9  10.00           Fair            CLR       69   \n",
       "..   ...      ...          ...    ...            ...            ...      ...   \n",
       "67    19    22:51    W 10 G 24  10.00           Fair            CLR       44   \n",
       "68    19    21:51   SW 10 G 22  10.00           Fair            CLR       44   \n",
       "69    19    20:51   SW 10 G 23  10.00           Fair            CLR       44   \n",
       "70    19    19:51           NA  10.00           Fair            CLR       45   \n",
       "71    19    18:51  Vrbl 7 G 22  10.00  Partly Cloudy  SCT050 SCT070       47   \n",
       "\n",
       "   Dewpoint Max_6hr Min_6hr Humidity Wind_chill Head_index Pressure_inches  \\\n",
       "0        22                      17%         NA         NA           30.35   \n",
       "1        24                      18%         NA         NA           30.34   \n",
       "2        23                      17%         NA         NA           30.34   \n",
       "3        19                      16%         NA         NA           30.35   \n",
       "4        19      69      55      15%         NA         NA           30.37   \n",
       "..      ...     ...     ...      ...        ...        ...             ...   \n",
       "67       27                      51%         39         NA           30.02   \n",
       "68       28                      53%         39         NA           29.99   \n",
       "69       28                      53%         39         NA           29.97   \n",
       "70       29      50      44      54%         NA         NA           29.93   \n",
       "71       29                      50%         44         NA           29.90   \n",
       "\n",
       "   Pressure_mb precip_1hr precip_3hr precip_6hr  \n",
       "0       1026.9                                   \n",
       "1       1026.6                                   \n",
       "2       1026.4                                   \n",
       "3       1026.9                                   \n",
       "4       1027.4                                   \n",
       "..         ...        ...        ...        ...  \n",
       "67      1015.7                                   \n",
       "68      1014.9                                   \n",
       "69      1013.9                                   \n",
       "70      1012.7                                   \n",
       "71      1011.5                                   \n",
       "\n",
       "[72 rows x 18 columns]"
      ]
     },
     "execution_count": 22,
     "metadata": {},
     "output_type": "execute_result"
    }
   ],
   "source": [
    "rain_history"
   ]
  },
  {
   "cell_type": "code",
   "execution_count": 23,
   "metadata": {},
   "outputs": [],
   "source": [
    "# Make sure precipitation columns are int as well\n",
    "\n",
    "precip_cols = ['precip_1hr', 'precip_3hr', 'precip_6hr']\n",
    "\n",
    "rain_history[precip_cols] = rain_history[precip_cols].replace('', np.nan)\n",
    "\n",
    "rain_history[precip_cols] = rain_history[precip_cols].applymap(lambda x: float(x))"
   ]
  },
  {
   "cell_type": "markdown",
   "metadata": {},
   "source": [
    "## Append to existing dataframe\n",
    "\n",
    "Take new dataframe with current 10-day forecast and append to existing dataset"
   ]
  },
  {
   "cell_type": "code",
   "execution_count": 24,
   "metadata": {},
   "outputs": [],
   "source": [
    "# Append new data to existing file. If this is the first day running this script, set dataframe for\n",
    "# export equal to new dataframe\n",
    "\n",
    "try:\n",
    "    weather_hist = weather_hist.append(weather_df, ignore_index=True)\n",
    "except NameError:\n",
    "    weather_hist = weather_df"
   ]
  },
  {
   "cell_type": "code",
   "execution_count": 25,
   "metadata": {},
   "outputs": [],
   "source": [
    "# Drop \"Unnamed\" column if it appears (should really figure out at some point how this sneaks in)\n",
    "\n",
    "try:\n",
    "    weather_hist.drop(columns=['Unnamed: 0'], inplace=True)\n",
    "except KeyError:\n",
    "    pass"
   ]
  },
  {
   "cell_type": "code",
   "execution_count": 26,
   "metadata": {},
   "outputs": [],
   "source": [
    "# One time conversion of the forecast date column to type datetime\n",
    "\n",
    "# weather_hist['forecast_date'] = pd.to_datetime(weather_hist['forecast_date'])"
   ]
  },
  {
   "cell_type": "markdown",
   "metadata": {},
   "source": [
    "## Merge in rainfall and actual temperature history"
   ]
  },
  {
   "cell_type": "code",
   "execution_count": 27,
   "metadata": {},
   "outputs": [],
   "source": [
    "pd.set_option('display.max_rows', None)"
   ]
  },
  {
   "cell_type": "code",
   "execution_count": 28,
   "metadata": {},
   "outputs": [],
   "source": [
    "# One time addition of month / year columns\n",
    "\n",
    "# weather_hist['year'] = 2021\n",
    "# weather_hist['month'] = 9\n",
    "# weather_hist.loc[weather_hist['day'] <= 10, 'month'] = 10"
   ]
  },
  {
   "cell_type": "code",
   "execution_count": 29,
   "metadata": {},
   "outputs": [],
   "source": [
    "# Find location where of yesterday's date. Need to fix so it isn't just the day.\n",
    "\n",
    "yest_date = forecast_date - dt.timedelta(1)\n",
    "\n",
    "day_locs = weather_hist.index[(weather_hist['day'] == yest_date.day) & (weather_hist['month'] == yest_date.month)\n",
    "                        & (weather_hist['year'] == yest_date.year)].tolist()\n",
    "\n",
    "# i = np.where(weather_hist['day'] == yest_date.day)"
   ]
  },
  {
   "cell_type": "code",
   "execution_count": 30,
   "metadata": {},
   "outputs": [],
   "source": [
    "rain_day = rain_history.groupby('Date').precip_1hr.sum()"
   ]
  },
  {
   "cell_type": "code",
   "execution_count": 31,
   "metadata": {},
   "outputs": [],
   "source": [
    "try:\n",
    "    weather_hist.iloc[day_locs,weather_hist.columns.get_loc('actual_precip')] = rain_day.iloc[rain_day.index.get_loc(yest_date.day)]\n",
    "except IndexError:\n",
    "    pass"
   ]
  },
  {
   "cell_type": "code",
   "execution_count": 32,
   "metadata": {},
   "outputs": [],
   "source": [
    "# Put actual min and max temps in where Date = yesterday\n",
    "\n",
    "try:\n",
    "    weather_hist.iloc[day_locs,weather_hist.columns.get_loc('actual_high')] = actual_max\n",
    "    weather_hist.iloc[day_locs,weather_hist.columns.get_loc('actual_low')] = actual_min\n",
    "except IndexError:\n",
    "    pass"
   ]
  },
  {
   "cell_type": "code",
   "execution_count": 33,
   "metadata": {
    "scrolled": true
   },
   "outputs": [],
   "source": [
    "# weather_hist"
   ]
  },
  {
   "cell_type": "markdown",
   "metadata": {},
   "source": [
    "## Export to CSV"
   ]
  },
  {
   "cell_type": "code",
   "execution_count": 34,
   "metadata": {},
   "outputs": [],
   "source": [
    "weather_hist.to_csv('./Data/nyc_forecast.csv')"
   ]
  },
  {
   "cell_type": "markdown",
   "metadata": {},
   "source": [
    "## Below here not in use\n",
    "\n",
    "Haven't been able to successfully scrape follwing website\n",
    "- Old Farmer's Almanac (403 error)\n",
    "- Weather underground. Trouble pulling data because tags have extraneous labeling that I'm not familiar with"
   ]
  },
  {
   "cell_type": "markdown",
   "metadata": {},
   "source": [
    "## Old Farmer's Almanac\n",
    "\n",
    "Used to pull precipitation history. Received a 403 code in response."
   ]
  },
  {
   "cell_type": "code",
   "execution_count": 35,
   "metadata": {},
   "outputs": [],
   "source": [
    "# url3 = 'https://www.almanac.com/weather/history/NY/New%20York'\n",
    "\n",
    "# res3 = requests.get(url3)\n",
    "\n",
    "# soup3 = BeautifulSoup(res3.content)"
   ]
  },
  {
   "cell_type": "markdown",
   "metadata": {},
   "source": [
    "## Weather Underground\n",
    "\n",
    "Precipitation history. Again, I'm having issues with this."
   ]
  },
  {
   "cell_type": "code",
   "execution_count": 36,
   "metadata": {},
   "outputs": [],
   "source": [
    "# url3 = 'https://www.wunderground.com/history/daily/us/ny/new-york-city/yesterday'\n",
    "\n",
    "# res3 = requests.get(url3)\n",
    "\n",
    "# soup3 = BeautifulSoup(res3.content)"
   ]
  },
  {
   "cell_type": "code",
   "execution_count": 37,
   "metadata": {},
   "outputs": [],
   "source": [
    "# test = soup3.find_all('td')"
   ]
  },
  {
   "cell_type": "code",
   "execution_count": 38,
   "metadata": {},
   "outputs": [],
   "source": [
    "# table_bodies = soup3.find_all(class_ = 'ng-star-inserted')"
   ]
  }
 ],
 "metadata": {
  "kernelspec": {
   "display_name": "Python (learn-env)",
   "language": "python",
   "name": "learn-env"
  },
  "language_info": {
   "codemirror_mode": {
    "name": "ipython",
    "version": 3
   },
   "file_extension": ".py",
   "mimetype": "text/x-python",
   "name": "python",
   "nbconvert_exporter": "python",
   "pygments_lexer": "ipython3",
   "version": "3.8.5"
  }
 },
 "nbformat": 4,
 "nbformat_minor": 4
}
